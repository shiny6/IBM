{
 "cells": [
  {
   "cell_type": "markdown",
   "id": "4cc227da",
   "metadata": {},
   "source": [
    "# Data Science Tools and Ecosystem"
   ]
  },
  {
   "cell_type": "markdown",
   "id": "e387b30c",
   "metadata": {},
   "source": [
    "In this notebook, Data Science Tools and Ecosystem are summarized."
   ]
  },
  {
   "cell_type": "markdown",
   "id": "4c8b9ed4",
   "metadata": {},
   "source": [
    "- Some of the popular languages that Data Scientists use are:\n",
    "1. Python\n",
    "2. R\n",
    "3. Perl\n",
    "4. Ruby\n",
    "5. Kotlin\n",
    "6. Rust"
   ]
  },
  {
   "cell_type": "markdown",
   "id": "e02fef61",
   "metadata": {},
   "source": [
    "### Some of the commonly used libraries used by Data Scientists include:\n",
    "1. Numpy\n",
    " - used for working with multi dimentional arrays\n",
    "2. Pandas\n",
    "-   One Dimensional(series)\n",
    "-  Two Dimensional(Data Frames)\n",
    "3. Matplotlib\n",
    "  - Graphs\n",
    "  - Plots\n",
    "  - Histograms\n",
    "  - Bar Charts\n",
    "4. SciKit-learn\n",
    "  - Clustering\n",
    "  -  Classification\n",
    "  - Regression"
   ]
  },
  {
   "cell_type": "markdown",
   "id": "507c9193",
   "metadata": {},
   "source": [
    "###  Table of Data Science tools\n",
    "\n",
    "|Data Science Tools|\n",
    "|------------------|\n",
    "| R Studio         |\n",
    "| Jupyter Notebook |\n",
    "| Tableau          |\n",
    "| "
   ]
  },
  {
   "cell_type": "markdown",
   "id": "602c739e",
   "metadata": {},
   "source": [
    "### Below are a few examples of evaluating arithmetic expressions in Python"
   ]
  },
  {
   "cell_type": "code",
   "execution_count": 1,
   "id": "b06ccb33",
   "metadata": {},
   "outputs": [
    {
     "data": {
      "text/plain": [
       "17"
      ]
     },
     "execution_count": 1,
     "metadata": {},
     "output_type": "execute_result"
    }
   ],
   "source": [
    "#This a simple arithmetic expression to mutiply then add integers.\n",
    "(3*4)+5"
   ]
  },
  {
   "cell_type": "code",
   "execution_count": 4,
   "id": "067e2564",
   "metadata": {},
   "outputs": [
    {
     "name": "stdout",
     "output_type": "stream",
     "text": [
      "Enter minutes200\n"
     ]
    },
    {
     "data": {
      "text/plain": [
       "3.3333333333333335"
      ]
     },
     "execution_count": 4,
     "metadata": {},
     "output_type": "execute_result"
    }
   ],
   "source": [
    " #This will convert 200 minutes to hours by diving by 60.\n",
    "minutes=int(input('Enter minutes'))\n",
    "hours = minutes/60\n",
    "hours"
   ]
  },
  {
   "cell_type": "markdown",
   "id": "2fb2657c",
   "metadata": {},
   "source": [
    "**Objectives:**\n",
    " - List popular languages for Data Science\n",
    " - Some of the commonly used libraries used by Data Scientists include:\n",
    " - Data Science tools\n",
    " - arithmetic expressions\n",
    " - convert minutes to hours\n",
    " \n"
   ]
  },
  {
   "cell_type": "markdown",
   "id": "a981aa8a",
   "metadata": {},
   "source": [
    "## Author:\n",
    " NAINENI SHINY"
   ]
  },
  {
   "cell_type": "code",
   "execution_count": null,
   "id": "de997fcc",
   "metadata": {},
   "outputs": [],
   "source": []
  }
 ],
 "metadata": {
  "kernelspec": {
   "display_name": "Python 3 (ipykernel)",
   "language": "python",
   "name": "python3"
  },
  "language_info": {
   "codemirror_mode": {
    "name": "ipython",
    "version": 3
   },
   "file_extension": ".py",
   "mimetype": "text/x-python",
   "name": "python",
   "nbconvert_exporter": "python",
   "pygments_lexer": "ipython3",
   "version": "3.9.12"
  }
 },
 "nbformat": 4,
 "nbformat_minor": 5
}
